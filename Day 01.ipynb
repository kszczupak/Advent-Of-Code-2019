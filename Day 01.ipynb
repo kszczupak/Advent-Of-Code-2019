{
 "cells": [
  {
   "cell_type": "code",
   "execution_count": 15,
   "metadata": {},
   "outputs": [],
   "source": [
    "import numpy as np\n",
    "\n",
    "with open(\"inputs/Day_01.txt\") as f:\n",
    "    raw_input_data = f.read()\n"
   ]
  },
  {
   "cell_type": "code",
   "execution_count": 16,
   "metadata": {},
   "outputs": [
    {
     "name": "stdout",
     "output_type": "stream",
     "text": [
      "Part 1 solution: 3471229\n"
     ]
    }
   ],
   "source": [
    "import numpy as np\n",
    "\n",
    "with open(\"inputs/Day_01.txt\") as f:\n",
    "    raw_input_data = f.read()\n",
    "    \n",
    "input_data = np.array(list(map(int, raw_input_data.split())))\n",
    "fuel_req = np.floor(input_data/3) - 2\n",
    "print(f\"Part 1 solution: {int(np.sum(fuel_req))}\")"
   ]
  },
  {
   "cell_type": "code",
   "execution_count": 21,
   "metadata": {},
   "outputs": [],
   "source": [
    "import math\n",
    "\n",
    "\n",
    "def part_2_solution(input_data):\n",
    "    return sum([get_module_fuel_req(module) for module in input_data])\n",
    "\n",
    "\n",
    "def get_module_fuel_req(starting_mass):\n",
    "    current_mass = starting_mass\n",
    "    fuel_req = 0\n",
    "    \n",
    "    while True:\n",
    "        current_mass = calculate_fuel_req(current_mass)\n",
    "        \n",
    "        if current_mass <= 0:\n",
    "            return fuel_req\n",
    "        \n",
    "        fuel_req += current_mass\n",
    "        \n",
    "\n",
    "def calculate_fuel_req(input_mass):\n",
    "    return math.floor(input_mass/3) - 2"
   ]
  },
  {
   "cell_type": "code",
   "execution_count": 22,
   "metadata": {},
   "outputs": [
    {
     "name": "stdout",
     "output_type": "stream",
     "text": [
      "Part 2 solution: 5203967\n"
     ]
    }
   ],
   "source": [
    "input_data = list(map(int, raw_input_data.split()))\n",
    "print(f\"Part 2 solution: {part_2_solution(input_data)}\")"
   ]
  }
 ],
 "metadata": {
  "kernelspec": {
   "display_name": "Python 3",
   "language": "python",
   "name": "python3"
  },
  "language_info": {
   "codemirror_mode": {
    "name": "ipython",
    "version": 3
   },
   "file_extension": ".py",
   "mimetype": "text/x-python",
   "name": "python",
   "nbconvert_exporter": "python",
   "pygments_lexer": "ipython3",
   "version": "3.7.3"
  }
 },
 "nbformat": 4,
 "nbformat_minor": 2
}
