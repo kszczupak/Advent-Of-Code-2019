{
 "cells": [
  {
   "cell_type": "code",
   "execution_count": 13,
   "metadata": {},
   "outputs": [],
   "source": [
    "with open(\"inputs/Day_02.txt\") as f:\n",
    "    raw_input_data = f.read()\n"
   ]
  },
  {
   "cell_type": "code",
   "execution_count": 34,
   "metadata": {
    "scrolled": true
   },
   "outputs": [
    {
     "name": "stdout",
     "output_type": "stream",
     "text": [
      "Part 1 solution: 4484226\n"
     ]
    }
   ],
   "source": [
    "input_data = list(map(int, raw_input_data.split(',')))\n",
    "\n",
    "def part_1_solution(puzzle_input):\n",
    "    puzzle_input[1] = 12\n",
    "    puzzle_input[2] = 2\n",
    "    \n",
    "    modified_seq = computer(puzzle_input)\n",
    "    \n",
    "#     print(modified_seq)\n",
    "    \n",
    "    return modified_seq[0]\n",
    "\n",
    "def computer(sequence):\n",
    "    index = 0\n",
    "    while index < len(sequence):\n",
    "        opt_code = sequence[index]\n",
    "        par_1_address = sequence[index + 1]\n",
    "        par_2_address = sequence[index + 2]\n",
    "        target_address = sequence[index + 3]\n",
    "        \n",
    "        if opt_code == 99:\n",
    "            return sequence\n",
    "        elif opt_code == 1:\n",
    "            sequence[target_address] = sequence[par_1_address] + sequence[par_2_address]\n",
    "        elif opt_code == 2:\n",
    "            sequence[target_address] = sequence[par_1_address] * sequence[par_2_address]\n",
    "            \n",
    "        index += 4\n",
    "    \n",
    "\n",
    "print(f\"Part 1 solution: {part_1_solution(input_data)}\")"
   ]
  },
  {
   "cell_type": "code",
   "execution_count": 40,
   "metadata": {},
   "outputs": [],
   "source": [
    "def part_2_solution(input_sequence):\n",
    "    for noun in range(100):\n",
    "        for verb in range(100):\n",
    "            candidate_seq = input_sequence.copy()\n",
    "            candidate_seq[1] = noun\n",
    "            candidate_seq[2] = verb\n",
    "            \n",
    "            if computer(candidate_seq)[0] == 19690720:\n",
    "                return 100 * noun + verb\n",
    "        \n",
    "    raise Exception(\"Solution not found\")\n",
    "    "
   ]
  },
  {
   "cell_type": "code",
   "execution_count": 41,
   "metadata": {},
   "outputs": [
    {
     "name": "stdout",
     "output_type": "stream",
     "text": [
      "Part 2 solution: 5696\n"
     ]
    }
   ],
   "source": [
    "input_data = list(map(int, raw_input_data.split(',')))\n",
    "print(f\"Part 2 solution: {part_2_solution(input_data)}\")"
   ]
  }
 ],
 "metadata": {
  "kernelspec": {
   "display_name": "Python 3",
   "language": "python",
   "name": "python3"
  },
  "language_info": {
   "codemirror_mode": {
    "name": "ipython",
    "version": 3
   },
   "file_extension": ".py",
   "mimetype": "text/x-python",
   "name": "python",
   "nbconvert_exporter": "python",
   "pygments_lexer": "ipython3",
   "version": "3.7.3"
  }
 },
 "nbformat": 4,
 "nbformat_minor": 2
}
