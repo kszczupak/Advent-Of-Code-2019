{
 "cells": [
  {
   "cell_type": "code",
   "execution_count": 1,
   "metadata": {},
   "outputs": [],
   "source": [
    "with open(\"inputs/Day_03.txt\") as f:\n",
    "    raw_input_data = f.read()\n"
   ]
  },
  {
   "cell_type": "code",
   "execution_count": 39,
   "metadata": {
    "scrolled": true
   },
   "outputs": [],
   "source": [
    "import math\n",
    "\n",
    "def part_1_solution(raw_wires_path):\n",
    "    grid = build_grid(raw_wires_path)\n",
    "    \n",
    "    closest_intersection = math.inf\n",
    "    \n",
    "    for point, wires in grid.items():\n",
    "        if len(set(wires)) > 1:\n",
    "            x, y = point\n",
    "            distance = abs(x) + abs(y)\n",
    "            \n",
    "            if distance < closest_intersection:\n",
    "                closest_intersection = distance\n",
    "    \n",
    "    return closest_intersection\n",
    "\n",
    "\n",
    "def build_grid(wires_path):\n",
    "    grid = dict()\n",
    "    \n",
    "    for wire_idx, wire_path in enumerate(wires_path):\n",
    "        current_point = (0, 0)\n",
    "        for dir_code in wire_path.split(','):\n",
    "            direction = dir_code[0]\n",
    "            lenght = int(dir_code[1:])\n",
    "            \n",
    "            current_point = fill_grid_in_direction(grid, direction, lenght, current_point, wire_idx)\n",
    "    \n",
    "    return grid\n",
    "\n",
    "\n",
    "def fill_grid_in_direction(grid, direction, lenght, last_point, wire_idx):\n",
    "    offset = 1\n",
    "    current_point = last_point\n",
    "    \n",
    "    while offset <= lenght:\n",
    "        current_x, current_y = current_point\n",
    "        \n",
    "        if direction == 'U':\n",
    "            current_y += 1\n",
    "        elif direction == 'D':\n",
    "            current_y -= 1\n",
    "        elif direction == 'R':\n",
    "            current_x += 1\n",
    "        elif direction == 'L':\n",
    "            current_x -= 1\n",
    "        else:\n",
    "            print(f\"Error - wrong direction {direction}\")\n",
    "            \n",
    "        new_point = (current_x, current_y)\n",
    "        if new_point not in grid:\n",
    "            grid[new_point] = list()\n",
    "            \n",
    "        grid[new_point].append(wire_idx)\n",
    "        current_point = new_point\n",
    "        offset += 1\n",
    "        \n",
    "    return current_point\n"
   ]
  },
  {
   "cell_type": "code",
   "execution_count": 40,
   "metadata": {
    "scrolled": false
   },
   "outputs": [
    {
     "name": "stdout",
     "output_type": "stream",
     "text": [
      "Tests passed\n"
     ]
    }
   ],
   "source": [
    "test_wires = \"\"\"R75,D30,R83,U83,L12,D49,R71,U7,L72\n",
    "U62,R66,U55,R34,D71,R55,D58,R83\"\"\".split()\n",
    "assert(part_1_solution(test_wires) == 159)\n",
    "test_wires = \"\"\"R98,U47,R26,D63,R33,U87,L62,D20,R33,U53,R51\n",
    "U98,R91,D20,R16,D67,R40,U7,R15,U6,R7\"\"\".split()\n",
    "assert(part_1_solution(test_wires) == 135)\n",
    "print(\"Tests passed\")"
   ]
  },
  {
   "cell_type": "code",
   "execution_count": 41,
   "metadata": {},
   "outputs": [
    {
     "name": "stdout",
     "output_type": "stream",
     "text": [
      "Part 1 solution: 209\n"
     ]
    }
   ],
   "source": [
    "raw_wires = raw_input_data.split()\n",
    "print(f\"Part 1 solution: {part_1_solution(raw_wires)}\")"
   ]
  },
  {
   "cell_type": "code",
   "execution_count": 46,
   "metadata": {},
   "outputs": [],
   "source": [
    "import math\n",
    "\n",
    "def part_2_solution(raw_wires_path):\n",
    "    grid = build_grid(raw_wires_path)\n",
    "    \n",
    "    closest_intersection = math.inf\n",
    "    \n",
    "    for point, wires in grid.items():\n",
    "        if len(set(wires.keys())) > 1:\n",
    "            total_steps = wires[0] + wires[1]\n",
    "            \n",
    "            if total_steps < closest_intersection:\n",
    "                closest_intersection = total_steps\n",
    "    \n",
    "    return closest_intersection\n",
    "\n",
    "\n",
    "def build_grid(wires_path):\n",
    "    grid = dict()\n",
    "    \n",
    "    for wire_idx, wire_path in enumerate(wires_path):\n",
    "        current_point = (0, 0)\n",
    "        step_cnt = 1\n",
    "        for dir_code in wire_path.split(','):\n",
    "            direction = dir_code[0]\n",
    "            lenght = int(dir_code[1:])\n",
    "            \n",
    "            current_point, step_cnt = fill_grid_in_direction(grid, direction, lenght, current_point, wire_idx, step_cnt)\n",
    "    \n",
    "    return grid\n",
    "\n",
    "\n",
    "def fill_grid_in_direction(grid, direction, lenght, last_point, wire_idx, step_cnt):\n",
    "    offset = 1\n",
    "    current_point = last_point\n",
    "    \n",
    "    while offset <= lenght:\n",
    "        current_x, current_y = current_point\n",
    "        \n",
    "        if direction == 'U':\n",
    "            current_y += 1\n",
    "        elif direction == 'D':\n",
    "            current_y -= 1\n",
    "        elif direction == 'R':\n",
    "            current_x += 1\n",
    "        elif direction == 'L':\n",
    "            current_x -= 1\n",
    "        else:\n",
    "            print(f\"Error - wrong direction {direction}\")\n",
    "            \n",
    "        new_point = (current_x, current_y)\n",
    "        if new_point not in grid:\n",
    "            grid[new_point] = dict()\n",
    "            \n",
    "        if wire_idx not in grid[new_point]:    \n",
    "            grid[new_point][wire_idx] = step_cnt\n",
    "            \n",
    "        current_point = new_point\n",
    "        offset += 1\n",
    "        step_cnt += 1\n",
    "        \n",
    "    return current_point, step_cnt\n",
    "    "
   ]
  },
  {
   "cell_type": "code",
   "execution_count": 47,
   "metadata": {},
   "outputs": [
    {
     "name": "stdout",
     "output_type": "stream",
     "text": [
      "Tests passed\n"
     ]
    }
   ],
   "source": [
    "test_wires = \"\"\"R75,D30,R83,U83,L12,D49,R71,U7,L72\n",
    "U62,R66,U55,R34,D71,R55,D58,R83\"\"\".split()\n",
    "assert(part_2_solution(test_wires) == 610)\n",
    "test_wires = \"\"\"R98,U47,R26,D63,R33,U87,L62,D20,R33,U53,R51\n",
    "U98,R91,D20,R16,D67,R40,U7,R15,U6,R7\"\"\".split()\n",
    "assert(part_2_solution(test_wires) == 410)\n",
    "print(\"Tests passed\")"
   ]
  },
  {
   "cell_type": "code",
   "execution_count": 48,
   "metadata": {},
   "outputs": [
    {
     "name": "stdout",
     "output_type": "stream",
     "text": [
      "Part 2 solution: 43258\n"
     ]
    }
   ],
   "source": [
    "raw_wires = raw_input_data.split()\n",
    "print(f\"Part 2 solution: {part_2_solution(raw_wires)}\")"
   ]
  },
  {
   "cell_type": "code",
   "execution_count": null,
   "metadata": {},
   "outputs": [],
   "source": []
  }
 ],
 "metadata": {
  "kernelspec": {
   "display_name": "Python 3",
   "language": "python",
   "name": "python3"
  },
  "language_info": {
   "codemirror_mode": {
    "name": "ipython",
    "version": 3
   },
   "file_extension": ".py",
   "mimetype": "text/x-python",
   "name": "python",
   "nbconvert_exporter": "python",
   "pygments_lexer": "ipython3",
   "version": "3.7.3"
  }
 },
 "nbformat": 4,
 "nbformat_minor": 2
}
