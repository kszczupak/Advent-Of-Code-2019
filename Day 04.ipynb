{
 "cells": [
  {
   "cell_type": "code",
   "execution_count": 4,
   "metadata": {},
   "outputs": [],
   "source": [
    "puzzle_start_range = 152085\n",
    "puzzle_stop_range = 670283"
   ]
  },
  {
   "cell_type": "code",
   "execution_count": 6,
   "metadata": {
    "scrolled": true
   },
   "outputs": [],
   "source": [
    "def part_1_solution(start_range, stop_range):\n",
    "    valid_pass_cnt = 0\n",
    "    \n",
    "    for password in range(start_range, stop_range + 1):\n",
    "        if is_password_valid(password):\n",
    "            valid_pass_cnt += 1\n",
    "    \n",
    "    return valid_pass_cnt\n",
    "\n",
    "\n",
    "def is_password_valid(password):    \n",
    "    pass_as_str = str(password)\n",
    "    \n",
    "    if len(pass_as_str) != 6:\n",
    "        return False\n",
    "    \n",
    "    same_adjacent = False\n",
    "    \n",
    "    for prev_idx, current_digit in enumerate(pass_as_str[1:]):\n",
    "        if current_digit < pass_as_str[prev_idx]:\n",
    "            return False\n",
    "        \n",
    "        if current_digit == pass_as_str[prev_idx]:\n",
    "            same_adjacent = True\n",
    "            \n",
    "    return same_adjacent\n"
   ]
  },
  {
   "cell_type": "code",
   "execution_count": 7,
   "metadata": {
    "scrolled": false
   },
   "outputs": [
    {
     "name": "stdout",
     "output_type": "stream",
     "text": [
      "Tests passed\n"
     ]
    }
   ],
   "source": [
    "assert(is_password_valid(111111) == True)\n",
    "assert(is_password_valid(223450) == False)\n",
    "assert(is_password_valid(123789) == False)\n",
    "print(\"Tests passed\")"
   ]
  },
  {
   "cell_type": "code",
   "execution_count": 8,
   "metadata": {},
   "outputs": [
    {
     "name": "stdout",
     "output_type": "stream",
     "text": [
      "Part 1 solution: 1764\n"
     ]
    }
   ],
   "source": [
    "print(f\"Part 1 solution: {part_1_solution(puzzle_start_range, puzzle_stop_range)}\")"
   ]
  },
  {
   "cell_type": "code",
   "execution_count": 25,
   "metadata": {},
   "outputs": [],
   "source": [
    "def part_2_solution(start_range, stop_range):\n",
    "    valid_pass_cnt = 0\n",
    "    \n",
    "    for password in range(start_range, stop_range + 1):\n",
    "        if is_password_valid(password):\n",
    "            valid_pass_cnt += 1\n",
    "    \n",
    "    return valid_pass_cnt\n",
    "\n",
    "\n",
    "def is_password_valid(password):\n",
    "    pass_as_str = str(password)\n",
    "    \n",
    "    if len(pass_as_str) != 6:\n",
    "        return False\n",
    "    \n",
    "    group_len = 1\n",
    "    valid_group_found = False\n",
    "    \n",
    "    for prev_idx, current_digit in enumerate(pass_as_str[1:]):\n",
    "        if current_digit < pass_as_str[prev_idx]:\n",
    "            return False\n",
    "        \n",
    "        if valid_group_found:\n",
    "            continue\n",
    "        \n",
    "        if current_digit == pass_as_str[prev_idx]:\n",
    "            group_len += 1\n",
    "            \n",
    "        if current_digit != pass_as_str[prev_idx] or prev_idx == len(pass_as_str) - 2:\n",
    "            if group_len == 2:\n",
    "                valid_group_found = True\n",
    "            \n",
    "            group_len = 1\n",
    "            \n",
    "    return valid_group_found\n"
   ]
  },
  {
   "cell_type": "code",
   "execution_count": 26,
   "metadata": {},
   "outputs": [
    {
     "name": "stdout",
     "output_type": "stream",
     "text": [
      "Tests passed\n"
     ]
    }
   ],
   "source": [
    "assert(is_password_valid(112233) == True)\n",
    "assert(is_password_valid(123444) == False)\n",
    "assert(is_password_valid(111122) == True)\n",
    "assert(is_password_valid(123358) == True)\n",
    "assert(is_password_valid(111111) == False)\n",
    "assert(is_password_valid(223450) == False)\n",
    "assert(is_password_valid(123789) == False)\n",
    "print(\"Tests passed\")"
   ]
  },
  {
   "cell_type": "code",
   "execution_count": 27,
   "metadata": {},
   "outputs": [
    {
     "name": "stdout",
     "output_type": "stream",
     "text": [
      "Part 2 solution: 1196\n"
     ]
    }
   ],
   "source": [
    "print(f\"Part 2 solution: {part_2_solution(puzzle_start_range, puzzle_stop_range)}\")"
   ]
  },
  {
   "cell_type": "code",
   "execution_count": null,
   "metadata": {},
   "outputs": [],
   "source": []
  }
 ],
 "metadata": {
  "kernelspec": {
   "display_name": "Python 3",
   "language": "python",
   "name": "python3"
  },
  "language_info": {
   "codemirror_mode": {
    "name": "ipython",
    "version": 3
   },
   "file_extension": ".py",
   "mimetype": "text/x-python",
   "name": "python",
   "nbconvert_exporter": "python",
   "pygments_lexer": "ipython3",
   "version": "3.7.3"
  }
 },
 "nbformat": 4,
 "nbformat_minor": 2
}
