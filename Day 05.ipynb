{
 "cells": [
  {
   "cell_type": "code",
   "execution_count": 7,
   "metadata": {},
   "outputs": [],
   "source": [
    "with open(\"inputs/Day_05.txt\") as f:\n",
    "    raw_input_data = f.read()"
   ]
  },
  {
   "cell_type": "code",
   "execution_count": 8,
   "metadata": {},
   "outputs": [
    {
     "name": "stdout",
     "output_type": "stream",
     "text": [
      "Part 1 solution: 7157989\n"
     ]
    }
   ],
   "source": [
    "input_data = list(map(int, raw_input_data.split(',')))\n",
    "\n",
    "def part_1_solution(puzzle_input):\n",
    "    _, solution = computer(puzzle_input, 1)\n",
    "    return solution\n",
    "\n",
    "def computer(sequence, inputs):\n",
    "    index = 0\n",
    "    diag_nbr = None\n",
    "    while True:\n",
    "        opt_code = sequence[index]\n",
    "        opt_code_with_modes = str(opt_code).zfill(4)\n",
    "        opt_code = int(opt_code_with_modes[-2:])\n",
    "        \n",
    "        try:\n",
    "            par_1 = sequence[sequence[index + 1]] if opt_code_with_modes[1] == \"0\" else sequence[index + 1]\n",
    "            par_2 = sequence[sequence[index + 2]] if opt_code_with_modes[0] == \"0\" else sequence[index + 2]\n",
    "        except:\n",
    "            pass\n",
    "        \n",
    "        if opt_code == 99:\n",
    "            return sequence, diag_nbr\n",
    "        elif opt_code == 3:\n",
    "            # input\n",
    "            target_address = sequence[index + 1]\n",
    "            sequence[target_address] = inputs\n",
    "            index += 2\n",
    "        elif opt_code == 4:\n",
    "            # output\n",
    "            diag_nbr = par_1\n",
    "            index += 2\n",
    "        elif opt_code == 1:\n",
    "            target_address = sequence[index + 3]\n",
    "            sequence[target_address] = par_1 + par_2\n",
    "            index += 4\n",
    "        elif opt_code == 2:\n",
    "            target_address = sequence[index + 3]\n",
    "            sequence[target_address] = par_1 * par_2\n",
    "            index += 4\n",
    "        else:\n",
    "            print(f\"Wrong code: {opt_code}\")\n",
    "    \n",
    "\n",
    "print(f\"Part 1 solution: {part_1_solution(input_data)}\")"
   ]
  },
  {
   "cell_type": "code",
   "execution_count": 4,
   "metadata": {
    "slideshow": {
     "slide_type": "subslide"
    }
   },
   "outputs": [],
   "source": [
    "def part_2_solution(raw_input, computer_input):\n",
    "    puzzle_input = list(map(int, raw_input.split(',')))\n",
    "    _, solution = computer(puzzle_input, computer_input)\n",
    "    return solution\n",
    "\n",
    "def computer(sequence, inputs):\n",
    "    index = 0\n",
    "    diag_nbr = None\n",
    "    while True:\n",
    "        opt_code = sequence[index]\n",
    "        opt_code_with_modes = str(opt_code).zfill(4)\n",
    "        opt_code = int(opt_code_with_modes[-2:])\n",
    "        \n",
    "        try:\n",
    "            par_1 = sequence[sequence[index + 1]] if opt_code_with_modes[1] == \"0\" else sequence[index + 1]\n",
    "            par_2 = sequence[sequence[index + 2]] if opt_code_with_modes[0] == \"0\" else sequence[index + 2]\n",
    "        except:\n",
    "            pass\n",
    "        \n",
    "        if opt_code == 99:\n",
    "            return sequence, diag_nbr\n",
    "        elif opt_code == 3:\n",
    "            # input\n",
    "            target_address = sequence[index + 1]\n",
    "            sequence[target_address] = inputs\n",
    "            index += 2\n",
    "        elif opt_code == 4:\n",
    "            # output\n",
    "            diag_nbr = par_1\n",
    "            index += 2\n",
    "        elif opt_code == 1:\n",
    "            target_address = sequence[index + 3]\n",
    "            sequence[target_address] = par_1 + par_2\n",
    "            index += 4\n",
    "        elif opt_code == 2:\n",
    "            target_address = sequence[index + 3]\n",
    "            sequence[target_address] = par_1 * par_2\n",
    "            index += 4\n",
    "        elif opt_code == 5:\n",
    "            if par_1 != 0:\n",
    "                index = par_2\n",
    "            else:\n",
    "                index += 3\n",
    "        elif opt_code == 6:\n",
    "            if par_1 == 0:\n",
    "                index = par_2\n",
    "            else:\n",
    "                index += 3\n",
    "        elif opt_code == 7:\n",
    "            target_address = sequence[index + 3]\n",
    "            sequence[target_address] = 1 if par_1 < par_2 else 0\n",
    "            index += 4\n",
    "        elif opt_code == 8:\n",
    "            target_address = sequence[index + 3]\n",
    "            sequence[target_address] = 1 if par_1 == par_2 else 0\n",
    "            index += 4\n",
    "        else:\n",
    "            print(f\"Wrong code: {opt_code}\")"
   ]
  },
  {
   "cell_type": "code",
   "execution_count": 5,
   "metadata": {},
   "outputs": [
    {
     "name": "stdout",
     "output_type": "stream",
     "text": [
      "Tests passed\n"
     ]
    }
   ],
   "source": [
    "test_input = \"\"\"3,21,1008,21,8,20,1005,20,22,107,8,21,20,1006,20,31,\n",
    "1106,0,36,98,0,0,1002,21,125,20,4,20,1105,1,46,104,\n",
    "999,1105,1,46,1101,1000,1,20,4,20,1105,1,46,98,99\"\"\"\n",
    "assert(part_2_solution(test_input, 9) == 1001)\n",
    "assert(part_2_solution(test_input, 8) == 1000)\n",
    "assert(part_2_solution(test_input, 7) == 999)\n",
    "print(\"Tests passed\")"
   ]
  },
  {
   "cell_type": "code",
   "execution_count": 12,
   "metadata": {},
   "outputs": [
    {
     "name": "stdout",
     "output_type": "stream",
     "text": [
      "Part 2 solution: 7873292\n"
     ]
    }
   ],
   "source": [
    "print(f\"Part 2 solution: {part_2_solution(raw_input_data, 5)}\")"
   ]
  }
 ],
 "metadata": {
  "kernelspec": {
   "display_name": "Python 3",
   "language": "python",
   "name": "python3"
  },
  "language_info": {
   "codemirror_mode": {
    "name": "ipython",
    "version": 3
   },
   "file_extension": ".py",
   "mimetype": "text/x-python",
   "name": "python",
   "nbconvert_exporter": "python",
   "pygments_lexer": "ipython3",
   "version": "3.7.3"
  }
 },
 "nbformat": 4,
 "nbformat_minor": 2
}
