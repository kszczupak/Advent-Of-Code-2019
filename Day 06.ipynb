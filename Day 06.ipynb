{
 "cells": [
  {
   "cell_type": "code",
   "execution_count": 7,
   "metadata": {},
   "outputs": [],
   "source": [
    "with open(\"inputs/Day_06.txt\") as f:\n",
    "    raw_puzzle_data = f.read()"
   ]
  },
  {
   "cell_type": "code",
   "execution_count": 12,
   "metadata": {},
   "outputs": [],
   "source": [
    "def part_1_solution(raw_data):\n",
    "    data = raw_data.split()\n",
    "    \n",
    "    system = build_orbit_system(data)\n",
    "\n",
    "    total_count = 0\n",
    "    for planet in system:\n",
    "        while planet != \"COM\":\n",
    "            total_count +=1\n",
    "            planet = system[planet]\n",
    "    \n",
    "    return total_count\n",
    "\n",
    "def build_orbit_system(input_data):\n",
    "    system = dict()\n",
    "    \n",
    "    for raw_orbit in input_data:\n",
    "        centre, planet = raw_orbit.split(\")\")\n",
    "        system[planet] = centre\n",
    "        \n",
    "    return system"
   ]
  },
  {
   "cell_type": "code",
   "execution_count": 14,
   "metadata": {},
   "outputs": [
    {
     "name": "stdout",
     "output_type": "stream",
     "text": [
      "Test passed\n"
     ]
    }
   ],
   "source": [
    "test_input = \"\"\"COM)B\n",
    "B)C\n",
    "C)D\n",
    "D)E\n",
    "E)F\n",
    "B)G\n",
    "G)H\n",
    "D)I\n",
    "E)J\n",
    "J)K\n",
    "K)L\"\"\"\n",
    "assert(part_1_solution(test_input) == 42)\n",
    "print(\"Test passed\")"
   ]
  },
  {
   "cell_type": "code",
   "execution_count": 15,
   "metadata": {},
   "outputs": [
    {
     "name": "stdout",
     "output_type": "stream",
     "text": [
      "Part 1 solution: 253104\n"
     ]
    }
   ],
   "source": [
    "print(f\"Part 1 solution: {part_1_solution(raw_puzzle_data)}\")"
   ]
  },
  {
   "cell_type": "code",
   "execution_count": 39,
   "metadata": {},
   "outputs": [],
   "source": [
    "def part_2_solution(raw_data):\n",
    "    data = raw_data.split()\n",
    "    \n",
    "    system = build_orbit_system(data)\n",
    "\n",
    "    you_path = build_path_from(system, 'YOU')\n",
    "    san_path = build_path_from(system, 'SAN')\n",
    "    \n",
    "    while True:\n",
    "        you_step = you_path[-1]\n",
    "        san_step = san_path[-1]\n",
    "        \n",
    "        if you_step != san_step:\n",
    "            break\n",
    "            \n",
    "        you_path.pop()\n",
    "        san_path.pop()\n",
    "    \n",
    "    return len(you_path) + len(san_path)\n",
    "\n",
    "def build_orbit_system(input_data):\n",
    "    system = dict()\n",
    "    \n",
    "    for raw_orbit in input_data:\n",
    "        centre, planet = raw_orbit.split(\")\")\n",
    "        system[planet] = centre\n",
    "        \n",
    "    return system\n",
    "\n",
    "def build_path_from(system, start_planet):\n",
    "    path = list()\n",
    "    current_planet = start_planet\n",
    "    while current_planet != \"COM\":\n",
    "        current_planet = system[current_planet]\n",
    "        path.append(current_planet)\n",
    "    \n",
    "    return path"
   ]
  },
  {
   "cell_type": "code",
   "execution_count": 41,
   "metadata": {},
   "outputs": [
    {
     "name": "stdout",
     "output_type": "stream",
     "text": [
      "Tests passed\n"
     ]
    }
   ],
   "source": [
    "test_input = \"\"\"COM)B\n",
    "B)C\n",
    "C)D\n",
    "D)E\n",
    "E)F\n",
    "B)G\n",
    "G)H\n",
    "D)I\n",
    "E)J\n",
    "J)K\n",
    "K)L\n",
    "K)YOU\n",
    "I)SAN\"\"\"\n",
    "assert(part_2_solution(test_input) == 4)\n",
    "print(\"Tests passed\")"
   ]
  },
  {
   "cell_type": "code",
   "execution_count": 42,
   "metadata": {},
   "outputs": [
    {
     "name": "stdout",
     "output_type": "stream",
     "text": [
      "Part 2 solution: 499\n"
     ]
    }
   ],
   "source": [
    "print(f\"Part 2 solution: {part_2_solution(raw_puzzle_data)}\")"
   ]
  }
 ],
 "metadata": {
  "kernelspec": {
   "display_name": "Python 3",
   "language": "python",
   "name": "python3"
  },
  "language_info": {
   "codemirror_mode": {
    "name": "ipython",
    "version": 3
   },
   "file_extension": ".py",
   "mimetype": "text/x-python",
   "name": "python",
   "nbconvert_exporter": "python",
   "pygments_lexer": "ipython3",
   "version": "3.7.3"
  }
 },
 "nbformat": 4,
 "nbformat_minor": 2
}
