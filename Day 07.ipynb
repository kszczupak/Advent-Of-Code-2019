{
 "cells": [
  {
   "cell_type": "code",
   "execution_count": 1,
   "metadata": {},
   "outputs": [],
   "source": [
    "with open(\"inputs/Day_07.txt\") as f:\n",
    "    raw_puzzle_data = f.read()"
   ]
  },
  {
   "cell_type": "code",
   "execution_count": 9,
   "metadata": {
    "slideshow": {
     "slide_type": "subslide"
    }
   },
   "outputs": [],
   "source": [
    "import itertools\n",
    "\n",
    "def part_1_solution(raw_input):\n",
    "    puzzle_input = list(map(int, raw_input.split(',')))\n",
    "    \n",
    "    max_signal = 0\n",
    "    for config in itertools.permutations(range(5)):\n",
    "        prev_output = 0\n",
    "        for amp_idx in range(5):\n",
    "            computer_inputs = (config[amp_idx], prev_output)\n",
    "            _, prev_output = computer(puzzle_input.copy(), computer_inputs)\n",
    "                \n",
    "        max_signal = max(prev_output, max_signal)\n",
    "        \n",
    "    return max_signal\n",
    "\n",
    "\n",
    "def computer(sequence, inputs):\n",
    "    index = 0\n",
    "    input_idx = 0\n",
    "    diag_nbr = None\n",
    "    while True:\n",
    "        opt_code = sequence[index]\n",
    "        opt_code_with_modes = str(opt_code).zfill(4)\n",
    "        opt_code = int(opt_code_with_modes[-2:])\n",
    "        \n",
    "        try:\n",
    "            par_1 = sequence[sequence[index + 1]] if opt_code_with_modes[1] == \"0\" else sequence[index + 1]\n",
    "            par_2 = sequence[sequence[index + 2]] if opt_code_with_modes[0] == \"0\" else sequence[index + 2]\n",
    "        except:\n",
    "            pass\n",
    "        \n",
    "        if opt_code == 99:\n",
    "            return sequence, diag_nbr\n",
    "        elif opt_code == 3:\n",
    "            # input\n",
    "            target_address = sequence[index + 1]\n",
    "            sequence[target_address] = inputs[input_idx]\n",
    "            input_idx += 1\n",
    "            index += 2\n",
    "        elif opt_code == 4:\n",
    "            # output\n",
    "            diag_nbr = par_1\n",
    "            index += 2\n",
    "        elif opt_code == 1:\n",
    "            target_address = sequence[index + 3]\n",
    "            sequence[target_address] = par_1 + par_2\n",
    "            index += 4\n",
    "        elif opt_code == 2:\n",
    "            target_address = sequence[index + 3]\n",
    "            sequence[target_address] = par_1 * par_2\n",
    "            index += 4\n",
    "        elif opt_code == 5:\n",
    "            if par_1 != 0:\n",
    "                index = par_2\n",
    "            else:\n",
    "                index += 3\n",
    "        elif opt_code == 6:\n",
    "            if par_1 == 0:\n",
    "                index = par_2\n",
    "            else:\n",
    "                index += 3\n",
    "        elif opt_code == 7:\n",
    "            target_address = sequence[index + 3]\n",
    "            sequence[target_address] = 1 if par_1 < par_2 else 0\n",
    "            index += 4\n",
    "        elif opt_code == 8:\n",
    "            target_address = sequence[index + 3]\n",
    "            sequence[target_address] = 1 if par_1 == par_2 else 0\n",
    "            index += 4\n",
    "        else:\n",
    "            print(f\"Wrong code: {opt_code}\")"
   ]
  },
  {
   "cell_type": "code",
   "execution_count": 10,
   "metadata": {},
   "outputs": [
    {
     "name": "stdout",
     "output_type": "stream",
     "text": [
      "Part 1 solution: 212460\n"
     ]
    }
   ],
   "source": [
    "print(f\"Part 1 solution: {part_1_solution(raw_puzzle_data)}\")"
   ]
  },
  {
   "cell_type": "code",
   "execution_count": 223,
   "metadata": {},
   "outputs": [],
   "source": [
    "import itertools\n",
    "\n",
    "def part_2_solution(raw_input):\n",
    "    puzzle_input = list(map(int, raw_input.split(',')))\n",
    "    \n",
    "    max_signal = 0\n",
    "#     possible_phaze_settings = itertools.permutations(range(5, 10))\n",
    "    for phaze_settings in itertools.permutations(range(5, 10)):\n",
    "        # setup computers\n",
    "        system = list()\n",
    "        for amp_idx in range(5):\n",
    "            amp = computer(puzzle_input.copy(), phaze_settings[amp_idx])\n",
    "            #process until first input is reached\n",
    "            next(amp)\n",
    "            system.append(amp)\n",
    "            \n",
    "        signal = run_amp_system(system)\n",
    "                \n",
    "        max_signal = max(signal, max_signal)\n",
    "        \n",
    "    return max_signal\n",
    "\n",
    "\n",
    "def run_amp_system(system):\n",
    "    signal = 0\n",
    "    while True:\n",
    "        for amplifier in system:\n",
    "            try:\n",
    "#                 signal = amplifier.send(signal)\n",
    "                amplifier.send(signal)\n",
    "                signal = next(amplifier)\n",
    "            except StopIteration:\n",
    "                return signal\n",
    "\n",
    "\n",
    "def computer(sequence, phaze_setting):\n",
    "    index = 0\n",
    "    input_idx = 0\n",
    "    diag_nbr = None\n",
    "    opt_code = -1 # start\n",
    "    while True:\n",
    "        opt_code = sequence[index]\n",
    "        opt_code_with_modes = str(opt_code).zfill(4)\n",
    "        opt_code = int(opt_code_with_modes[-2:])\n",
    "        \n",
    "        try:\n",
    "            par_1 = sequence[sequence[index + 1]] if opt_code_with_modes[1] == \"0\" else sequence[index + 1]\n",
    "            par_2 = sequence[sequence[index + 2]] if opt_code_with_modes[0] == \"0\" else sequence[index + 2]\n",
    "        except:\n",
    "            pass\n",
    "        \n",
    "        if opt_code == 99:\n",
    "            break\n",
    "        elif opt_code == 3:\n",
    "            # input\n",
    "#             print(f\"in {input_idx}\")\n",
    "            target_address = sequence[index + 1]\n",
    "            if input_idx == 0:\n",
    "                sequence[target_address] = phaze_setting\n",
    "            else:\n",
    "                sequence[target_address] = yield diag_nbr\n",
    "            input_idx += 1\n",
    "            index += 2\n",
    "        elif opt_code == 4:\n",
    "            # output\n",
    "#             print(\"out\")\n",
    "            diag_nbr = par_1\n",
    "            yield diag_nbr\n",
    "            index += 2\n",
    "        elif opt_code == 1:\n",
    "            target_address = sequence[index + 3]\n",
    "            sequence[target_address] = par_1 + par_2\n",
    "            index += 4\n",
    "        elif opt_code == 2:\n",
    "            target_address = sequence[index + 3]\n",
    "            sequence[target_address] = par_1 * par_2\n",
    "            index += 4\n",
    "        elif opt_code == 5:\n",
    "            if par_1 != 0:\n",
    "                index = par_2\n",
    "            else:\n",
    "                index += 3\n",
    "        elif opt_code == 6:\n",
    "            if par_1 == 0:\n",
    "                index = par_2\n",
    "            else:\n",
    "                index += 3\n",
    "        elif opt_code == 7:\n",
    "            target_address = sequence[index + 3]\n",
    "            sequence[target_address] = 1 if par_1 < par_2 else 0\n",
    "            index += 4\n",
    "        elif opt_code == 8:\n",
    "            target_address = sequence[index + 3]\n",
    "            sequence[target_address] = 1 if par_1 == par_2 else 0\n",
    "            index += 4\n",
    "        else:\n",
    "            print(f\"Wrong code: {opt_code}\")\n",
    "                    \n",
    "    yield diag_nbr"
   ]
  },
  {
   "cell_type": "code",
   "execution_count": 224,
   "metadata": {},
   "outputs": [
    {
     "name": "stdout",
     "output_type": "stream",
     "text": [
      "Tests passed\n"
     ]
    }
   ],
   "source": [
    "raw_test_input = \"\"\"3,26,1001,26,-4,26,3,27,1002,27,2,27,1,27,26,\n",
    "27,4,27,1001,28,-1,28,1005,28,6,99,0,0,5\"\"\"\n",
    "assert(part_2_solution(raw_test_input) == 139629729)\n",
    "raw_test_input = \"\"\"3,52,1001,52,-5,52,3,53,1,52,56,54,1007,54,5,55,1005,55,26,1001,54,\n",
    "-5,54,1105,1,12,1,53,54,53,1008,54,0,55,1001,55,1,55,2,53,55,53,4,\n",
    "53,1001,56,-1,56,1005,56,6,99,0,0,0,0,10\"\"\"\n",
    "assert(part_2_solution(raw_test_input) == 18216)\n",
    "print(\"Tests passed\")"
   ]
  },
  {
   "cell_type": "code",
   "execution_count": 225,
   "metadata": {
    "scrolled": true
   },
   "outputs": [
    {
     "name": "stdout",
     "output_type": "stream",
     "text": [
      "Part 2 solution: 21844737\n"
     ]
    }
   ],
   "source": [
    "print(f\"Part 2 solution: {part_2_solution(raw_puzzle_data)}\")"
   ]
  },
  {
   "cell_type": "code",
   "execution_count": 226,
   "metadata": {},
   "outputs": [
    {
     "name": "stdout",
     "output_type": "stream",
     "text": [
      "48.8 ms ± 1.38 ms per loop (mean ± std. dev. of 7 runs, 10 loops each)\n"
     ]
    }
   ],
   "source": [
    "%%timeit\n",
    "part_2_solution(raw_puzzle_data)"
   ]
  },
  {
   "cell_type": "code",
   "execution_count": null,
   "metadata": {},
   "outputs": [],
   "source": []
  }
 ],
 "metadata": {
  "kernelspec": {
   "display_name": "Python 3",
   "language": "python",
   "name": "python3"
  },
  "language_info": {
   "codemirror_mode": {
    "name": "ipython",
    "version": 3
   },
   "file_extension": ".py",
   "mimetype": "text/x-python",
   "name": "python",
   "nbconvert_exporter": "python",
   "pygments_lexer": "ipython3",
   "version": "3.7.3"
  }
 },
 "nbformat": 4,
 "nbformat_minor": 2
}
