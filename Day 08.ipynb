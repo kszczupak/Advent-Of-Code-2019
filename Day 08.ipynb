{
 "cells": [
  {
   "cell_type": "code",
   "execution_count": 1,
   "metadata": {},
   "outputs": [],
   "source": [
    "with open(\"inputs/Day_08.txt\") as f:\n",
    "    raw_puzzle_data = f.read()"
   ]
  },
  {
   "cell_type": "code",
   "execution_count": 60,
   "metadata": {},
   "outputs": [],
   "source": [
    "import numpy as np\n",
    "\n",
    "def part_1_solution(raw_data, layer_size=(2, 3)):\n",
    "    data_as_in_list = list(map(int, raw_data))\n",
    "    \n",
    "    layer_x_size, layer_y_size = layer_size\n",
    "    layer_chunk_size = layer_x_size * layer_y_size\n",
    "    nbr_of_layers = len(data_as_in_list)//layer_chunk_size\n",
    "    \n",
    "    layers = np.array(data_as_in_list).reshape((nbr_of_layers, layer_x_size, layer_y_size))\n",
    "\n",
    "    min_0_dig_cnt = layer_chunk_size\n",
    "    result = 0\n",
    "    for layer in layers:\n",
    "        cnt_0 = np.count_nonzero(layer == 0)\n",
    "        if cnt_0 < min_0_dig_cnt:\n",
    "            cnt_1 = np.count_nonzero(layer == 1)\n",
    "            cnt_2 = np.count_nonzero(layer == 2)\n",
    "            result = cnt_1 * cnt_2\n",
    "            min_0_dig_cnt = cnt_0\n",
    "    \n",
    "    return result"
   ]
  },
  {
   "cell_type": "code",
   "execution_count": 61,
   "metadata": {
    "scrolled": true
   },
   "outputs": [
    {
     "data": {
      "text/plain": [
       "2"
      ]
     },
     "execution_count": 61,
     "metadata": {},
     "output_type": "execute_result"
    }
   ],
   "source": [
    "test_input = \"122456789011\"\n",
    "part_1_solution(test_input, layer_size=(2, 3))"
   ]
  },
  {
   "cell_type": "code",
   "execution_count": 62,
   "metadata": {},
   "outputs": [
    {
     "name": "stdout",
     "output_type": "stream",
     "text": [
      "Part 1 solution: 1920\n"
     ]
    }
   ],
   "source": [
    "print(f\"Part 1 solution: {part_1_solution(raw_puzzle_data, layer_size=(6, 25))}\")"
   ]
  },
  {
   "cell_type": "code",
   "execution_count": 79,
   "metadata": {},
   "outputs": [],
   "source": [
    "from PIL import Image\n",
    "\n",
    "def part_2_solution(raw_data, layer_size=(2, 3)):\n",
    "    data_as_in_list = list(map(int, raw_data))\n",
    "    \n",
    "    layer_x_size, layer_y_size = layer_size\n",
    "    layer_chunk_size = layer_x_size * layer_y_size\n",
    "    nbr_of_layers = len(data_as_in_list)//layer_chunk_size\n",
    "    \n",
    "    layers = np.array(data_as_in_list).reshape((nbr_of_layers, layer_x_size, layer_y_size))\n",
    "    final_image = np.full(layer_size, 2)\n",
    "    \n",
    "    for layer in layers:\n",
    "        transparent_mask = final_image == 2\n",
    "        \n",
    "        final_image[transparent_mask] = layer[transparent_mask]\n",
    "        \n",
    "    return final_image"
   ]
  },
  {
   "cell_type": "code",
   "execution_count": 74,
   "metadata": {},
   "outputs": [
    {
     "data": {
      "text/plain": [
       "array([[0, 1],\n",
       "       [1, 0]])"
      ]
     },
     "execution_count": 74,
     "metadata": {},
     "output_type": "execute_result"
    }
   ],
   "source": [
    "test_input = \"0222112222120000\"\n",
    "part_2_solution(test_input, layer_size=(2, 2))"
   ]
  },
  {
   "cell_type": "code",
   "execution_count": 95,
   "metadata": {},
   "outputs": [],
   "source": [
    "final_img_as_array = part_2_solution(raw_puzzle_data, layer_size=(6, 25))"
   ]
  },
  {
   "cell_type": "code",
   "execution_count": 96,
   "metadata": {},
   "outputs": [],
   "source": [
    "img = Image.fromarray(np.uint8(final_img_as_array * 255) , 'L')"
   ]
  },
  {
   "cell_type": "code",
   "execution_count": 97,
   "metadata": {},
   "outputs": [
    {
     "data": {
      "image/png": "[encoded data removed]",
      "text/plain": [
       "<PIL.Image.Image image mode=L size=600x100 at 0x7F1D907EA2B0>"
      ]
     },
     "execution_count": 97,
     "metadata": {},
     "output_type": "execute_result"
    }
   ],
   "source": [
    "img.resize((600, 100))"
   ]
  },
  {
   "cell_type": "code",
   "execution_count": null,
   "metadata": {},
   "outputs": [],
   "source": []
  }
 ],
 "metadata": {
  "kernelspec": {
   "display_name": "Python 3",
   "language": "python",
   "name": "python3"
  },
  "language_info": {
   "codemirror_mode": {
    "name": "ipython",
    "version": 3
   },
   "file_extension": ".py",
   "mimetype": "text/x-python",
   "name": "python",
   "nbconvert_exporter": "python",
   "pygments_lexer": "ipython3",
   "version": "3.7.3"
  }
 },
 "nbformat": 4,
 "nbformat_minor": 2
}
