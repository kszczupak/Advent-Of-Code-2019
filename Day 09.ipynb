{
 "cells": [
  {
   "cell_type": "code",
   "execution_count": 1,
   "metadata": {},
   "outputs": [],
   "source": [
    "with open(\"inputs/Day_09.txt\") as f:\n",
    "    raw_input_data = f.read()"
   ]
  },
  {
   "cell_type": "code",
   "execution_count": 25,
   "metadata": {},
   "outputs": [],
   "source": [
    "from collections import defaultdict\n",
    "\n",
    "def part_1_solution(raw_input, computer_input):\n",
    "    puzzle_input = list(map(int, raw_input.split(',')))\n",
    "    solution = computer(puzzle_input, computer_input)\n",
    "    return solution\n",
    "\n",
    "def get_parameter_address(memory, mode, par_index, relative_base):\n",
    "    if mode == \"0\":\n",
    "        return memory[par_index]\n",
    "    elif mode == \"1\":\n",
    "        return par_index\n",
    "    elif mode == \"2\":\n",
    "        return relative_base + memory[par_index]\n",
    "    else:\n",
    "        print(f\"[ERROR] Wrong mode code: {mode}\")\n",
    "\n",
    "def computer(sequence, inputs):\n",
    "    index = 0\n",
    "    relative_base = 0\n",
    "    memory = defaultdict(int)\n",
    "    for i, value in enumerate(sequence):\n",
    "        memory[i] = value\n",
    "        \n",
    "    diag_nbr = None\n",
    "    while True:\n",
    "        opt_code = memory[index]\n",
    "        opt_code_with_modes = str(opt_code).zfill(5)\n",
    "        opt_code = int(opt_code_with_modes[-2:])\n",
    "        modes = opt_code_with_modes[:-2]\n",
    "        \n",
    "        \n",
    "        par_1_address = get_parameter_address(memory, modes[-1], index + 1, relative_base)\n",
    "        par_2_address = get_parameter_address(memory, modes[-2], index + 2, relative_base)\n",
    "        par_3_address = get_parameter_address(memory, modes[-3], index + 3, relative_base)\n",
    "        \n",
    "        par_1 = memory[par_1_address]\n",
    "        par_2 = memory[par_2_address]\n",
    "        \n",
    "        if opt_code == 99:\n",
    "            return diag_nbr\n",
    "        elif opt_code == 3:\n",
    "            # input\n",
    "            target_address = par_1_address\n",
    "            memory[target_address] = inputs\n",
    "            index += 2\n",
    "        elif opt_code == 4:\n",
    "            # output\n",
    "            diag_nbr = par_1\n",
    "#             print(diag_nbr, end=\" \")\n",
    "            index += 2\n",
    "        elif opt_code == 1:\n",
    "            target_address = par_3_address\n",
    "            memory[target_address] = par_1 + par_2\n",
    "            index += 4\n",
    "        elif opt_code == 2:\n",
    "            target_address = par_3_address\n",
    "            memory[target_address] = par_1 * par_2\n",
    "            index += 4\n",
    "        elif opt_code == 5:\n",
    "            if par_1 != 0:\n",
    "                index = par_2\n",
    "            else:\n",
    "                index += 3\n",
    "        elif opt_code == 6:\n",
    "            if par_1 == 0:\n",
    "                index = par_2\n",
    "            else:\n",
    "                index += 3\n",
    "        elif opt_code == 7:\n",
    "            target_address = par_3_address\n",
    "            memory[target_address] = 1 if par_1 < par_2 else 0\n",
    "            index += 4\n",
    "        elif opt_code == 8:\n",
    "            target_address = par_3_address\n",
    "            memory[target_address] = 1 if par_1 == par_2 else 0\n",
    "            index += 4\n",
    "        elif opt_code == 9:\n",
    "            relative_base += par_1\n",
    "            index += 2\n",
    "        else:\n",
    "            print(f\"Wrong code: {opt_code}\")\n",
    "   \n",
    "    "
   ]
  },
  {
   "cell_type": "code",
   "execution_count": 26,
   "metadata": {
    "scrolled": true
   },
   "outputs": [
    {
     "name": "stdout",
     "output_type": "stream",
     "text": [
      "Part 1 solution: 2518058886\n"
     ]
    }
   ],
   "source": [
    "print(f\"Part 1 solution: {part_1_solution(raw_input_data, 1)}\")"
   ]
  },
  {
   "cell_type": "code",
   "execution_count": 27,
   "metadata": {
    "scrolled": false
   },
   "outputs": [
    {
     "name": "stdout",
     "output_type": "stream",
     "text": [
      "Part 2 solution: 44292\n"
     ]
    }
   ],
   "source": [
    "print(f\"Part 2 solution: {part_1_solution(raw_input_data, 2)}\")"
   ]
  },
  {
   "cell_type": "code",
   "execution_count": null,
   "metadata": {},
   "outputs": [],
   "source": []
  }
 ],
 "metadata": {
  "kernelspec": {
   "display_name": "Python 3",
   "language": "python",
   "name": "python3"
  },
  "language_info": {
   "codemirror_mode": {
    "name": "ipython",
    "version": 3
   },
   "file_extension": ".py",
   "mimetype": "text/x-python",
   "name": "python",
   "nbconvert_exporter": "python",
   "pygments_lexer": "ipython3",
   "version": "3.7.3"
  }
 },
 "nbformat": 4,
 "nbformat_minor": 2
}
