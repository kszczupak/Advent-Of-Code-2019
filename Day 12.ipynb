{
 "cells": [
  {
   "cell_type": "code",
   "execution_count": 30,
   "metadata": {},
   "outputs": [],
   "source": [
    "with open(\"inputs/Day_12.txt\") as f:\n",
    "   input_data = f.read()"
   ]
  },
  {
   "cell_type": "code",
   "execution_count": 4,
   "metadata": {},
   "outputs": [],
   "source": [
    "import numpy as np\n",
    "\n",
    "def part_1_solution(raw_input, steps):\n",
    "    positions = parse_raw_input(raw_input)\n",
    "    velocities = np.zeros((4, 3))\n",
    "    for step in range(steps):\n",
    "        positions, velocities = progress_one_step(positions, velocities)\n",
    "\n",
    "    pot_energy = np.sum(np.abs(positions), axis=1)\n",
    "    kin_energy = np.sum(np.abs(velocities), axis=1)\n",
    "    total_energy = sum(pot_energy * kin_energy)\n",
    "    return int(total_energy)\n",
    "\n",
    "\n",
    "def parse_raw_input(raw_input):\n",
    "    positions = np.zeros((4, 3))\n",
    "    for i, row in enumerate(raw_input.split(\"\\n\")):\n",
    "        for j, symbol in enumerate(row[1:-1].split(\",\")):\n",
    "            positions[i][j] = int(symbol.strip()[2:])\n",
    "\n",
    "    return positions\n",
    "\n",
    "\n",
    "def progress_one_step(pos, vel):\n",
    "    new_vel = vel.copy()\n",
    "    for i, row in enumerate(pos):\n",
    "        vel_change = np.zeros(3)\n",
    "        for j, curr_pos in enumerate(row):\n",
    "            for k in range(len(pos)):\n",
    "                if k == i:\n",
    "                    # current\n",
    "                    continue\n",
    "                    \n",
    "                if curr_pos > pos[k][j]:\n",
    "                    vel_change[j] += -1\n",
    "                elif curr_pos < pos[k][j]:\n",
    "                    vel_change[j] += 1\n",
    "                    \n",
    "        vel[i] += vel_change\n",
    "    \n",
    "    pos += vel\n",
    "    \n",
    "    return pos, vel\n",
    "                "
   ]
  },
  {
   "cell_type": "code",
   "execution_count": 83,
   "metadata": {},
   "outputs": [
    {
     "name": "stdout",
     "output_type": "stream",
     "text": [
      "Tests passed\n"
     ]
    }
   ],
   "source": [
    "test_input = \"\"\"<x=-1, y=0, z=2>\n",
    "<x=2, y=-10, z=-7>\n",
    "<x=4, y=-8, z=8>\n",
    "<x=3, y=5, z=-1>\"\"\"\n",
    "assert(part_1_solution(test_input, 10) == 179)\n",
    "test_input = \"\"\"<x=-8, y=-10, z=0>\n",
    "<x=5, y=5, z=10>\n",
    "<x=2, y=-7, z=3>\n",
    "<x=9, y=-8, z=-3>\"\"\"\n",
    "assert(part_1_solution(test_input, 100) == 1940)\n",
    "print(\"Tests passed\")"
   ]
  },
  {
   "cell_type": "code",
   "execution_count": 84,
   "metadata": {
    "scrolled": true
   },
   "outputs": [
    {
     "name": "stdout",
     "output_type": "stream",
     "text": [
      "Part 1 solution: 8362\n"
     ]
    }
   ],
   "source": [
    "print(f\"Part 1 solution: {part_1_solution(input_data, 1000)}\")"
   ]
  },
  {
   "cell_type": "code",
   "execution_count": 34,
   "metadata": {},
   "outputs": [],
   "source": [
    "import numpy as np\n",
    "\n",
    "def part_2_solution(raw_input):\n",
    "    positions = parse_raw_input(raw_input)\n",
    "    velocities = np.zeros((4, 3))\n",
    "    init_pos = positions.copy()\n",
    "    init_vel = velocities.copy()\n",
    "    step = 0\n",
    "    x_period = None\n",
    "    y_period = None\n",
    "    z_period = None\n",
    "    while True:\n",
    "        positions, velocities = progress_one_step(positions, velocities)\n",
    "        step += 1\n",
    "\n",
    "        is_x_repeated = all([all(init_pos[:, 0] == positions[:, 0]), all(init_vel[:, 0] == velocities[:, 0])])\n",
    "        \n",
    "        if is_x_repeated and not x_period:\n",
    "            x_period = step\n",
    "            \n",
    "        \n",
    "        is_y_repeated = all([all(init_pos[:, 1] == positions[:, 1]), all(init_vel[:, 1] == velocities[:, 1])])\n",
    "        \n",
    "        if is_y_repeated and not y_period:\n",
    "            y_period = step\n",
    "\n",
    "        \n",
    "        is_z_repeated = all([all(init_pos[:, 2] == positions[:, 2]), all(init_vel[:, 2] == velocities[:, 2])])\n",
    "        \n",
    "        if is_z_repeated and not z_period:\n",
    "            z_period = step\n",
    "            \n",
    "        if x_period and y_period and z_period:\n",
    "            break\n",
    "            \n",
    "    return np.lcm(np.lcm(x_period, y_period), z_period)\n",
    "\n",
    "\n",
    "def parse_raw_input(raw_input):\n",
    "    positions = np.zeros((4, 3))\n",
    "    for i, row in enumerate(raw_input.split(\"\\n\")):\n",
    "        for j, symbol in enumerate(row[1:-1].split(\",\")):\n",
    "            positions[i][j] = int(symbol.strip()[2:])\n",
    "\n",
    "    return positions\n",
    "\n",
    "\n",
    "def progress_one_step(pos, vel):\n",
    "    new_vel = vel.copy()\n",
    "    for i, row in enumerate(pos):\n",
    "        vel_change = np.zeros(3)\n",
    "        for j, curr_pos in enumerate(row):\n",
    "            for k in range(len(pos)):\n",
    "                if k == i:\n",
    "                    # current\n",
    "                    continue\n",
    "                    \n",
    "                if curr_pos > pos[k][j]:\n",
    "                    vel_change[j] += -1\n",
    "                elif curr_pos < pos[k][j]:\n",
    "                    vel_change[j] += 1\n",
    "                    \n",
    "        vel[i] += vel_change\n",
    "    \n",
    "    pos += vel\n",
    "    \n",
    "    return pos, vel\n",
    "                "
   ]
  },
  {
   "cell_type": "code",
   "execution_count": 29,
   "metadata": {},
   "outputs": [
    {
     "name": "stdout",
     "output_type": "stream",
     "text": [
      "Tests passed\n"
     ]
    }
   ],
   "source": [
    "test_input_1 = \"\"\"<x=-1, y=0, z=2>\n",
    "<x=2, y=-10, z=-7>\n",
    "<x=4, y=-8, z=8>\n",
    "<x=3, y=5, z=-1>\"\"\"\n",
    "assert(part_2_solution(test_input_1) == 2772)\n",
    "test_input_2 = \"\"\"<x=-8, y=-10, z=0>\n",
    "<x=5, y=5, z=10>\n",
    "<x=2, y=-7, z=3>\n",
    "<x=9, y=-8, z=-3>\"\"\"\n",
    "assert(part_2_solution(test_input_2) == 4686774924)\n",
    "print(\"Tests passed\")"
   ]
  },
  {
   "cell_type": "code",
   "execution_count": 35,
   "metadata": {
    "scrolled": true
   },
   "outputs": [
    {
     "name": "stdout",
     "output_type": "stream",
     "text": [
      "Part 2 solution: 478373365921244\n"
     ]
    }
   ],
   "source": [
    "print(f\"Part 2 solution: {part_2_solution(input_data)}\")"
   ]
  },
  {
   "cell_type": "code",
   "execution_count": null,
   "metadata": {},
   "outputs": [],
   "source": []
  }
 ],
 "metadata": {
  "kernelspec": {
   "display_name": "Python 3",
   "language": "python",
   "name": "python3"
  },
  "language_info": {
   "codemirror_mode": {
    "name": "ipython",
    "version": 3
   },
   "file_extension": ".py",
   "mimetype": "text/x-python",
   "name": "python",
   "nbconvert_exporter": "python",
   "pygments_lexer": "ipython3",
   "version": "3.7.3"
  }
 },
 "nbformat": 4,
 "nbformat_minor": 2
}
