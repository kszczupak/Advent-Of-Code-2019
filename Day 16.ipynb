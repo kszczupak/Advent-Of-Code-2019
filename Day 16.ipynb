{
 "cells": [
  {
   "cell_type": "code",
   "execution_count": 8,
   "metadata": {},
   "outputs": [],
   "source": [
    "with open(\"inputs/Day_16.txt\") as f:\n",
    "   input_data = f.read()"
   ]
  },
  {
   "cell_type": "code",
   "execution_count": 2,
   "metadata": {},
   "outputs": [],
   "source": [
    "\n",
    "def part_1_solution(signal, nbr_of_phazes):\n",
    "    for _ in range(nbr_of_phazes):\n",
    "        signal = compute_fft(signal)\n",
    "        \n",
    "    return signal[:8]\n",
    "    \n",
    "def compute_fft(signal):\n",
    "    computed_signal = \"\"\n",
    "    \n",
    "    for digit_idx in range(len(signal)):\n",
    "        pattern = get_pattern(digit_idx + 1)\n",
    "#         print(pattern)\n",
    "        current_sum = 0\n",
    "        first_pattern = True\n",
    "        pattern_idx = 0\n",
    "        \n",
    "        for idx, raw_digit in enumerate(signal):\n",
    "#             pattern_idx = idx%len(pattern)\n",
    "            \n",
    "            if first_pattern:\n",
    "                pattern_idx += 1\n",
    "                if pattern_idx == len(pattern):\n",
    "                    first_pattern = False\n",
    "                    pattern_idx = 0\n",
    "            else:\n",
    "                pattern_idx = (idx + 1) %len(pattern)\n",
    "            \n",
    "#             print(pattern[pattern_idx], end=\" \")\n",
    "            \n",
    "            current_sum += int(raw_digit) * pattern[pattern_idx]\n",
    "        \n",
    "        computed_signal += str(current_sum)[-1]\n",
    "        \n",
    "#         return\n",
    "        \n",
    "    return computed_signal\n",
    "        \n",
    "    \n",
    "\n",
    "BASE_PATTERN = [0, 1, 0, -1]\n",
    "def get_pattern(iteration):\n",
    "    pattern = list()\n",
    "    \n",
    "    for digit in BASE_PATTERN:\n",
    "        pattern.extend([digit]*iteration)\n",
    "        \n",
    "    return pattern\n"
   ]
  },
  {
   "cell_type": "code",
   "execution_count": 14,
   "metadata": {},
   "outputs": [
    {
     "name": "stdout",
     "output_type": "stream",
     "text": [
      "Tests passed\n"
     ]
    }
   ],
   "source": [
    "test_input = \"80871224585914546619083218645595\"\n",
    "assert(part_1_solution(test_input, 100) == \"24176176\")\n",
    "test_input = \"19617804207202209144916044189917\"\n",
    "assert(part_1_solution(test_input, 100) == \"73745418\")\n",
    "test_input = \"69317163492948606335995924319873\"\n",
    "assert(part_1_solution(test_input, 100) == \"52432133\")\n",
    "print(\"Tests passed\")"
   ]
  },
  {
   "cell_type": "code",
   "execution_count": 49,
   "metadata": {
    "scrolled": true
   },
   "outputs": [
    {
     "name": "stdout",
     "output_type": "stream",
     "text": [
      "Part 1 solution: 12541048\n"
     ]
    }
   ],
   "source": [
    "print(f\"Part 1 solution: {part_1_solution(input_data, 100)}\")"
   ]
  },
  {
   "cell_type": "code",
   "execution_count": 12,
   "metadata": {
    "scrolled": true
   },
   "outputs": [],
   "source": [
    "\n",
    "def part_2_solution(raw_signal, nbr_of_phazes):\n",
    "    offset = int(raw_signal[:7])\n",
    "    elements = [int(num) for _ in range(10000) for num in raw_signal][offset:]\n",
    "    \n",
    "    for _ in range(nbr_of_phazes):\n",
    "        for i in range(-2, -len(elements)-1, -1):\n",
    "            elements[i] = (elements[i] + elements[i+1]) % 10\n",
    "\n",
    "    return \"\".join([str(x) for x in elements[:8]])\n"
   ]
  },
  {
   "cell_type": "code",
   "execution_count": 13,
   "metadata": {},
   "outputs": [
    {
     "name": "stdout",
     "output_type": "stream",
     "text": [
      "Part 2 solution: 62858988\n"
     ]
    }
   ],
   "source": [
    "print(f\"Part 2 solution: {part_2_solution(input_data, 100)}\")"
   ]
  },
  {
   "cell_type": "code",
   "execution_count": null,
   "metadata": {},
   "outputs": [],
   "source": []
  }
 ],
 "metadata": {
  "kernelspec": {
   "display_name": "Python 3",
   "language": "python",
   "name": "python3"
  },
  "language_info": {
   "codemirror_mode": {
    "name": "ipython",
    "version": 3
   },
   "file_extension": ".py",
   "mimetype": "text/x-python",
   "name": "python",
   "nbconvert_exporter": "python",
   "pygments_lexer": "ipython3",
   "version": "3.7.3"
  }
 },
 "nbformat": 4,
 "nbformat_minor": 2
}
