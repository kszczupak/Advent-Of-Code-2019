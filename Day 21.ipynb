{
 "cells": [
  {
   "cell_type": "code",
   "execution_count": 1,
   "metadata": {},
   "outputs": [],
   "source": [
    "with open(\"inputs/Day_21.txt\") as f:\n",
    "    raw_input_data = f.read()"
   ]
  },
  {
   "cell_type": "code",
   "execution_count": null,
   "metadata": {},
   "outputs": [],
   "source": [
    "actions = ['NOT C J', 'AND D J', 'NOT A T', 'OR T J', 'WALK']"
   ]
  },
  {
   "cell_type": "code",
   "execution_count": 16,
   "metadata": {},
   "outputs": [],
   "source": [
    "from collections import namedtuple, defaultdict\n",
    "from itertools import combinations\n",
    "from enum import Enum\n",
    "\n",
    "    \n",
    "def run_part_1(raw_input):\n",
    "    puzzle_input = list(map(int, raw_input.split(',')))\n",
    "    actions = ['NOT C J', 'AND D J', 'NOT A T', 'OR T J', 'WALK']\n",
    "    run_simulation(puzzle_input, actions)\n",
    "    \n",
    "def run_part_2(raw_input):\n",
    "    puzzle_input = list(map(int, raw_input.split(',')))\n",
    "    actions = ['NOT C J', 'AND D J', 'AND H J', 'NOT B T', 'AND D T', 'OR T J', 'NOT A T', 'OR T J', 'RUN']\n",
    "    run_simulation(puzzle_input, actions)\n",
    "\n",
    "def run_simulation(program, actions):\n",
    "    computer = start_computer(program)\n",
    "    item = next(computer)\n",
    "    \n",
    "    while item is not Finished:\n",
    "        if isinstance(item, Output):\n",
    "            if item.ascii_code > 255:\n",
    "                char = item.ascii_code\n",
    "                print(char)\n",
    "            else:\n",
    "                char = chr(item.ascii_code)\n",
    "                print(char, end=\"\")\n",
    "                    \n",
    "            item = next(computer)\n",
    "        elif item is Input:\n",
    "            print()\n",
    "            if actions:\n",
    "                str_to_send = actions.pop(0)\n",
    "            else:\n",
    "                str_to_send = input(\"Provide action: \")\n",
    "            \n",
    "            for char in str_to_send:\n",
    "                item = computer.send(ord(char))\n",
    "            \n",
    "            item = computer.send(10)\n",
    "        else:\n",
    "            raise Exception(f\"Unsuported item from generator: {item}\")\n",
    "    \n",
    "    \n",
    "Finished = object()\n",
    "Input = object()\n",
    "Output = namedtuple('Output', ('ascii_code'))\n",
    "\n",
    "\n",
    "def start_computer(sequence):\n",
    "    index = 0\n",
    "    relative_base = 0\n",
    "    memory = defaultdict(int)\n",
    "    \n",
    "    for i, value in enumerate(sequence):\n",
    "        memory[i] = value\n",
    "        \n",
    "    diag_nbr = None\n",
    "    while True:\n",
    "        opt_code = memory[index]\n",
    "        opt_code_with_modes = str(opt_code).zfill(5)\n",
    "        opt_code = int(opt_code_with_modes[-2:])\n",
    "        modes = opt_code_with_modes[:-2]\n",
    "        \n",
    "        \n",
    "        par_1_address = get_parameter_address(memory, modes[-1], index + 1, relative_base)\n",
    "        par_2_address = get_parameter_address(memory, modes[-2], index + 2, relative_base)\n",
    "        par_3_address = get_parameter_address(memory, modes[-3], index + 3, relative_base)\n",
    "        \n",
    "        par_1 = memory[par_1_address]\n",
    "        par_2 = memory[par_2_address]\n",
    "        \n",
    "        if opt_code == 99:\n",
    "            break\n",
    "        elif opt_code == 3:\n",
    "            target_address = par_1_address\n",
    "            memory[target_address] = yield Input\n",
    "            index += 2\n",
    "        elif opt_code == 4:\n",
    "            raw_output = par_1\n",
    "            yield Output(raw_output)\n",
    "            index += 2\n",
    "        elif opt_code == 1:\n",
    "            target_address = par_3_address\n",
    "            memory[target_address] = par_1 + par_2\n",
    "            index += 4\n",
    "        elif opt_code == 2:\n",
    "            target_address = par_3_address\n",
    "            memory[target_address] = par_1 * par_2\n",
    "            index += 4\n",
    "        elif opt_code == 5:\n",
    "            if par_1 != 0:\n",
    "                index = par_2\n",
    "            else:\n",
    "                index += 3\n",
    "        elif opt_code == 6:\n",
    "            if par_1 == 0:\n",
    "                index = par_2\n",
    "            else:\n",
    "                index += 3\n",
    "        elif opt_code == 7:\n",
    "            target_address = par_3_address\n",
    "            memory[target_address] = 1 if par_1 < par_2 else 0\n",
    "            index += 4\n",
    "        elif opt_code == 8:\n",
    "            target_address = par_3_address\n",
    "            memory[target_address] = 1 if par_1 == par_2 else 0\n",
    "            index += 4\n",
    "        elif opt_code == 9:\n",
    "            relative_base += par_1\n",
    "            index += 2\n",
    "        else:\n",
    "            print(f\"Wrong code: {opt_code}\")  \n",
    "    \n",
    "    yield Finished\n",
    "\n",
    "            \n",
    "def get_parameter_address(memory, mode, par_index, relative_base):\n",
    "    if mode == \"0\":\n",
    "        return memory[par_index]\n",
    "    elif mode == \"1\":\n",
    "        return par_index\n",
    "    elif mode == \"2\":\n",
    "        return relative_base + memory[par_index]\n",
    "    else:\n",
    "        print(f\"[ERROR] Wrong mode code: {mode}\")"
   ]
  },
  {
   "cell_type": "code",
   "execution_count": 17,
   "metadata": {
    "scrolled": true
   },
   "outputs": [
    {
     "name": "stdout",
     "output_type": "stream",
     "text": [
      "Input instructions:\n",
      "\n",
      "\n",
      "\n",
      "\n",
      "\n",
      "\n",
      "Walking...\n",
      "\n",
      "19358416\n"
     ]
    }
   ],
   "source": [
    "run_part_1(raw_input_data)"
   ]
  },
  {
   "cell_type": "code",
   "execution_count": 18,
   "metadata": {},
   "outputs": [
    {
     "name": "stdout",
     "output_type": "stream",
     "text": [
      "Input instructions:\n",
      "\n",
      "\n",
      "\n",
      "\n",
      "\n",
      "\n",
      "\n",
      "\n",
      "\n",
      "\n",
      "Running...\n",
      "\n",
      "1144641747\n"
     ]
    }
   ],
   "source": [
    "run_part_2(raw_input_data)"
   ]
  },
  {
   "cell_type": "code",
   "execution_count": null,
   "metadata": {},
   "outputs": [],
   "source": []
  }
 ],
 "metadata": {
  "kernelspec": {
   "display_name": "Python 3",
   "language": "python",
   "name": "python3"
  },
  "language_info": {
   "codemirror_mode": {
    "name": "ipython",
    "version": 3
   },
   "file_extension": ".py",
   "mimetype": "text/x-python",
   "name": "python",
   "nbconvert_exporter": "python",
   "pygments_lexer": "ipython3",
   "version": "3.7.3"
  }
 },
 "nbformat": 4,
 "nbformat_minor": 2
}
