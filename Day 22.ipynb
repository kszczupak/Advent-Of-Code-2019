{
 "cells": [
  {
   "cell_type": "code",
   "execution_count": 1,
   "metadata": {},
   "outputs": [],
   "source": [
    "with open(\"inputs/Day_22.txt\") as f:\n",
    "   input_data = f.read()"
   ]
  },
  {
   "cell_type": "code",
   "execution_count": 91,
   "metadata": {},
   "outputs": [],
   "source": [
    "def part_1_solution(raw_input, deck_size):\n",
    "    commands = raw_input.split(\"\\n\")\n",
    "    \n",
    "    initial_deck = list(range(deck_size))\n",
    "    \n",
    "    deck = shuffle(initial_deck, commands)\n",
    "    \n",
    "    for i, card in enumerate(deck):\n",
    "        if card == 2019:\n",
    "            return i\n",
    "\n",
    "    \n",
    "def shuffle(deck, commands):\n",
    "    for command in commands:\n",
    "        if command.startswith(\"deal into new stack\"):\n",
    "            deck.reverse()\n",
    "        elif command.startswith(\"deal with increment\"):\n",
    "            interval = int(command[19:])\n",
    "            deck = deal_with_increment(deck, interval)\n",
    "        elif command.startswith(\"cut\"):\n",
    "            size = int(command[3:])\n",
    "            deck = cut(deck, size)\n",
    "        else:\n",
    "            raise Exception(\"Wrong command\")\n",
    "        \n",
    "    return deck\n",
    "\n",
    "    \n",
    "def deal_with_increment(deck, interval):\n",
    "    new_deck = [-1] * len(deck)\n",
    "    \n",
    "    current_idx = 0\n",
    "    \n",
    "    while deck:\n",
    "        current_idx %= len(new_deck)\n",
    "        card = deck.pop(0)\n",
    "        new_deck[current_idx] = card\n",
    "        \n",
    "        current_idx += interval\n",
    "    \n",
    "    return new_deck\n",
    "\n",
    "\n",
    "def cut(deck, size):\n",
    "    if size >= 0:\n",
    "        cut_portion = deck[:size]\n",
    "        remaning_portion = deck[size:]\n",
    "        new_deck = remaning_portion + cut_portion\n",
    "    else:\n",
    "        cut_portion = deck[size:]\n",
    "        remaning_portion = deck[:size]\n",
    "        new_deck = cut_portion +  remaning_portion\n",
    "    \n",
    "    return new_deck"
   ]
  },
  {
   "cell_type": "code",
   "execution_count": 93,
   "metadata": {
    "scrolled": true
   },
   "outputs": [
    {
     "name": "stdout",
     "output_type": "stream",
     "text": [
      "Part 1 solution: 6417\n"
     ]
    }
   ],
   "source": [
    "print(f\"Part 1 solution: {part_1_solution(input_data, 10007)}\")"
   ]
  },
  {
   "cell_type": "code",
   "execution_count": 99,
   "metadata": {},
   "outputs": [
    {
     "name": "stdout",
     "output_type": "stream",
     "text": [
      "Part 2 solution: 98461321956136\n"
     ]
    }
   ],
   "source": [
    "import sys\n",
    "from functools import partial, reduce\n",
    "\n",
    "# get modular multiplicative inverse for prime p\n",
    "def prime_modinv(p, mod):\n",
    "    return pow(p, mod - 2, mod)\n",
    "\n",
    "# get (a, b) coefficients for inverse linear index mapping functions ax+b\n",
    "def inverse_functions(instructions, ncards):\n",
    "    for line in reversed(instructions):\n",
    "        if line == 'deal into new stack':\n",
    "            yield -1, ncards - 1\n",
    "        elif line.startswith('cut'):\n",
    "            amount = int(line[3:])\n",
    "            yield 1, amount\n",
    "        else:\n",
    "            increment = int(line[19:])\n",
    "            yield prime_modinv(increment, ncards), 0\n",
    "\n",
    "# compose all inverse mappings into a single linear function\n",
    "def inverse_function(instructions, ncards):\n",
    "    functions = inverse_functions(instructions, ncards)\n",
    "    return reduce(partial(fcompose, ncards), functions, (1, 0))\n",
    "\n",
    "# compose linear functions ax+b and cx+d\n",
    "def fcompose(mod, f, g):\n",
    "    a, b = f\n",
    "    c, d = g\n",
    "    return c * a % mod, (c * b + d) % mod\n",
    "\n",
    "# compute f(x) = ax+b\n",
    "def fapply(f, x, mod):\n",
    "    a, b = f\n",
    "    return (a * x + b) % mod\n",
    "\n",
    "# repeat ax+b n times\n",
    "def frepeat(f, n, mod):\n",
    "    if n == 0:\n",
    "        return 1, 0\n",
    "    if n == 1:\n",
    "        return f\n",
    "    half, odd = divmod(n, 2)\n",
    "    g = frepeat(f, half, mod)\n",
    "    gg = fcompose(mod, g, g)\n",
    "    return fcompose(mod, f, gg) if odd else gg\n",
    "\n",
    "def find_card(value, ncards, instructions):\n",
    "    f = inverse_function(instructions, ncards)\n",
    "    return next(i for i in range(ncards) if fapply(f, i, ncards) == value)\n",
    "\n",
    "def card_at(index, ncards, nshuffles, instructions):\n",
    "    f = inverse_function(instructions, ncards)\n",
    "    fn = frepeat(f, nshuffles, ncards)\n",
    "    return fapply(fn, index, ncards)\n",
    "\n",
    "instructions = input_data.split(\"\\n\")\n",
    "print(f\"Part 2 solution: {card_at(2020, 119315717514047, 101741582076661, instructions)}\")"
   ]
  }
 ],
 "metadata": {
  "kernelspec": {
   "display_name": "Python 3",
   "language": "python",
   "name": "python3"
  },
  "language_info": {
   "codemirror_mode": {
    "name": "ipython",
    "version": 3
   },
   "file_extension": ".py",
   "mimetype": "text/x-python",
   "name": "python",
   "nbconvert_exporter": "python",
   "pygments_lexer": "ipython3",
   "version": "3.7.3"
  }
 },
 "nbformat": 4,
 "nbformat_minor": 2
}
