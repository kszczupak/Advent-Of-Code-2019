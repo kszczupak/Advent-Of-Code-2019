{
 "cells": [
  {
   "cell_type": "code",
   "execution_count": 27,
   "metadata": {},
   "outputs": [],
   "source": [
    "puzzle_input = \"\"\"####.\n",
    ".##..\n",
    "##.#.\n",
    "###..\n",
    "##..#\"\"\""
   ]
  },
  {
   "cell_type": "code",
   "execution_count": 31,
   "metadata": {},
   "outputs": [],
   "source": [
    "from collections import namedtuple\n",
    "\n",
    "def part_1_solution(raw_input):\n",
    "    grid = parse_grid(raw_input)\n",
    "    \n",
    "    sim = simulate(grid.height, grid.width)\n",
    "    seen_grids = set()\n",
    "    \n",
    "    while grid not in seen_grids:\n",
    "        seen_grids.add(grid)\n",
    "        grid = process_one_minute(grid, sim)            \n",
    "    \n",
    "    return grid.biodiversity_rating()\n",
    "\n",
    "BUG = '#'\n",
    "EMPTY = '-'\n",
    "    \n",
    "class Grid:\n",
    "    def __init__(self, height, width):\n",
    "        self.height = height\n",
    "        self.width = width\n",
    "        self.rows = []\n",
    "        for _ in range(self.height):\n",
    "            self.rows.append([EMPTY] * self.width)\n",
    "\n",
    "    def __str__(self):\n",
    "        output = ''\n",
    "        for row in self.rows:\n",
    "            for cell in row:\n",
    "                output += cell\n",
    "            output += '\\n'\n",
    "        return output\n",
    "    \n",
    "    def __hash__(self):\n",
    "        flattened = list()\n",
    "        for row in self.rows:\n",
    "            for obj in row:\n",
    "                flattened.append(obj)\n",
    "        \n",
    "        return hash(\"\".join(flattened))\n",
    "    \n",
    "    def __eq__(self, other):\n",
    "        return self.rows == other.rows\n",
    "    \n",
    "    def biodiversity_rating(self):\n",
    "        rating = 0\n",
    "        i = 0\n",
    "        for row in self.rows:\n",
    "            for obj in row:\n",
    "                if obj == BUG:\n",
    "                    rating += 2**i\n",
    "                i += 1\n",
    "                \n",
    "        return rating\n",
    "\n",
    "    def query(self, y, x):\n",
    "        if y >= self.height or x >= self.width:\n",
    "            return EMPTY\n",
    "        \n",
    "        if y < 0 or x < 0:\n",
    "            return EMPTY\n",
    "        \n",
    "        return self.rows[y][x]\n",
    "\n",
    "    def assign(self, y, x, state):\n",
    "        self.rows[y][x] = state\n",
    "\n",
    "\n",
    "def parse_grid(raw_input):\n",
    "    grid = Grid(5, 5)\n",
    "    \n",
    "    for y, row in enumerate(raw_input.split(\"\\n\")):\n",
    "        for x, obj in enumerate(row):\n",
    "            if obj == \"#\":\n",
    "                grid.assign(y, x, BUG)\n",
    "                \n",
    "    return grid\n",
    "\n",
    "\n",
    "def process_one_minute(grid, sim):\n",
    "    new_grid = Grid(grid.height, grid.width)\n",
    "    item = next(sim)\n",
    "    while item is not TICK:\n",
    "        if isinstance(item, Query):\n",
    "            state = grid.query(item.y, item.x)\n",
    "            item = sim.send(state)\n",
    "        else:  \n",
    "            new_grid.assign(item.y, item.x, item.state)\n",
    "            item = next(sim)\n",
    "    return new_grid\n",
    "    \n",
    "TICK = object()\n",
    "\n",
    "def simulate(height, width):\n",
    "    while True:\n",
    "        for y in range(height):\n",
    "            for x in range(width):\n",
    "                yield from step_cell(y, x)\n",
    "        yield TICK\n",
    "\n",
    "        \n",
    "Query = namedtuple('Query', ('y', 'x'))\n",
    "\n",
    "def count_neighbors(y, x):\n",
    "    n_ = yield Query(y + 1, x + 0)  \n",
    "    e_ = yield Query(y + 0, x + 1)\n",
    "    s_ = yield Query(y - 1, x + 0)\n",
    "    w_ = yield Query(y + 0, x - 1)\n",
    "    \n",
    "    neighbor_states = [n_, e_, s_, w_]\n",
    "    count = 0\n",
    "    for state in neighbor_states:\n",
    "        if state == BUG:\n",
    "            count += 1\n",
    "            \n",
    "    return count\n",
    "\n",
    "Transition = namedtuple('Transition', ('y', 'x', 'state'))\n",
    "\n",
    "def step_cell(y, x):\n",
    "    state = yield Query(y, x)\n",
    "    neighbors = yield from count_neighbors(y, x)\n",
    "    next_state = game_logic(state, neighbors)\n",
    "    yield Transition(y, x, next_state)\n",
    "    \n",
    "\n",
    "def game_logic(state, neighbors):\n",
    "    if state == BUG:\n",
    "        if neighbors == 1:\n",
    "            return BUG\n",
    "        else:\n",
    "            return EMPTY\n",
    "    \n",
    "    if neighbors == 1 or neighbors == 2:\n",
    "        return BUG\n",
    "    \n",
    "    return EMPTY\n"
   ]
  },
  {
   "cell_type": "code",
   "execution_count": 32,
   "metadata": {},
   "outputs": [
    {
     "name": "stdout",
     "output_type": "stream",
     "text": [
      "Test passed\n"
     ]
    }
   ],
   "source": [
    "test_input = \"\"\"....#\n",
    "#..#.\n",
    "#..##\n",
    "..#..\n",
    "#....\"\"\"\n",
    "assert(part_1_solution(test_input) == 2129920)\n",
    "print(\"Test passed\")"
   ]
  },
  {
   "cell_type": "code",
   "execution_count": 33,
   "metadata": {},
   "outputs": [
    {
     "name": "stdout",
     "output_type": "stream",
     "text": [
      "Part 1 solution: 18400821\n"
     ]
    }
   ],
   "source": [
    "print(f\"Part 1 solution: {part_1_solution(puzzle_input)}\")"
   ]
  },
  {
   "cell_type": "code",
   "execution_count": 35,
   "metadata": {},
   "outputs": [
    {
     "name": "stdout",
     "output_type": "stream",
     "text": [
      "4.18 ms ± 304 µs per loop (mean ± std. dev. of 7 runs, 100 loops each)\n"
     ]
    }
   ],
   "source": []
  },
  {
   "cell_type": "code",
   "execution_count": null,
   "metadata": {},
   "outputs": [],
   "source": []
  }
 ],
 "metadata": {
  "kernelspec": {
   "display_name": "Python 3",
   "language": "python",
   "name": "python3"
  },
  "language_info": {
   "codemirror_mode": {
    "name": "ipython",
    "version": 3
   },
   "file_extension": ".py",
   "mimetype": "text/x-python",
   "name": "python",
   "nbconvert_exporter": "python",
   "pygments_lexer": "ipython3",
   "version": "3.7.3"
  }
 },
 "nbformat": 4,
 "nbformat_minor": 2
}
